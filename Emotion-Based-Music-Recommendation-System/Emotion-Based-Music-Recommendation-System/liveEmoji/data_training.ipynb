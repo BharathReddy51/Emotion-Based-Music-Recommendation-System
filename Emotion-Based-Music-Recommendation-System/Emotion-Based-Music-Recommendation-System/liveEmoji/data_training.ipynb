{
 "cells": [
  {
   "cell_type": "code",
   "execution_count": 1,
   "id": "bd937fe0",
   "metadata": {},
   "outputs": [
    {
     "ename": "ValueError",
     "evalue": "Data cardinality is ambiguous:\n  x sizes: 697\n  y sizes: 700\nMake sure all arrays contain the same number of samples.",
     "output_type": "error",
     "traceback": [
      "\u001b[1;31m---------------------------------------------------------------------------\u001b[0m",
      "\u001b[1;31mValueError\u001b[0m                                Traceback (most recent call last)",
      "Cell \u001b[1;32mIn[1], line 64\u001b[0m\n\u001b[0;32m     60\u001b[0m model \u001b[38;5;241m=\u001b[39m Model(inputs\u001b[38;5;241m=\u001b[39mip, outputs\u001b[38;5;241m=\u001b[39mop)\n\u001b[0;32m     62\u001b[0m model\u001b[38;5;241m.\u001b[39mcompile(optimizer\u001b[38;5;241m=\u001b[39m\u001b[38;5;124m'\u001b[39m\u001b[38;5;124mrmsprop\u001b[39m\u001b[38;5;124m'\u001b[39m, loss\u001b[38;5;241m=\u001b[39m\u001b[38;5;124m\"\u001b[39m\u001b[38;5;124mcategorical_crossentropy\u001b[39m\u001b[38;5;124m\"\u001b[39m, metrics\u001b[38;5;241m=\u001b[39m[\u001b[38;5;124m'\u001b[39m\u001b[38;5;124macc\u001b[39m\u001b[38;5;124m'\u001b[39m])\n\u001b[1;32m---> 64\u001b[0m model\u001b[38;5;241m.\u001b[39mfit(X, y, epochs\u001b[38;5;241m=\u001b[39m\u001b[38;5;241m50\u001b[39m)\n\u001b[0;32m     67\u001b[0m model\u001b[38;5;241m.\u001b[39msave(\u001b[38;5;124m\"\u001b[39m\u001b[38;5;124mmodel.h5\u001b[39m\u001b[38;5;124m\"\u001b[39m)\n\u001b[0;32m     68\u001b[0m np\u001b[38;5;241m.\u001b[39msave(\u001b[38;5;124m\"\u001b[39m\u001b[38;5;124mlabels.npy\u001b[39m\u001b[38;5;124m\"\u001b[39m, np\u001b[38;5;241m.\u001b[39marray(label))\n",
      "File \u001b[1;32m~\\anaconda3\\Lib\\site-packages\\keras\\src\\utils\\traceback_utils.py:70\u001b[0m, in \u001b[0;36mfilter_traceback.<locals>.error_handler\u001b[1;34m(*args, **kwargs)\u001b[0m\n\u001b[0;32m     67\u001b[0m     filtered_tb \u001b[38;5;241m=\u001b[39m _process_traceback_frames(e\u001b[38;5;241m.\u001b[39m__traceback__)\n\u001b[0;32m     68\u001b[0m     \u001b[38;5;66;03m# To get the full stack trace, call:\u001b[39;00m\n\u001b[0;32m     69\u001b[0m     \u001b[38;5;66;03m# `tf.debugging.disable_traceback_filtering()`\u001b[39;00m\n\u001b[1;32m---> 70\u001b[0m     \u001b[38;5;28;01mraise\u001b[39;00m e\u001b[38;5;241m.\u001b[39mwith_traceback(filtered_tb) \u001b[38;5;28;01mfrom\u001b[39;00m \u001b[38;5;28;01mNone\u001b[39;00m\n\u001b[0;32m     71\u001b[0m \u001b[38;5;28;01mfinally\u001b[39;00m:\n\u001b[0;32m     72\u001b[0m     \u001b[38;5;28;01mdel\u001b[39;00m filtered_tb\n",
      "File \u001b[1;32m~\\anaconda3\\Lib\\site-packages\\keras\\src\\engine\\data_adapter.py:1950\u001b[0m, in \u001b[0;36m_check_data_cardinality\u001b[1;34m(data)\u001b[0m\n\u001b[0;32m   1943\u001b[0m     msg \u001b[38;5;241m+\u001b[39m\u001b[38;5;241m=\u001b[39m \u001b[38;5;124m\"\u001b[39m\u001b[38;5;124m  \u001b[39m\u001b[38;5;132;01m{}\u001b[39;00m\u001b[38;5;124m sizes: \u001b[39m\u001b[38;5;132;01m{}\u001b[39;00m\u001b[38;5;130;01m\\n\u001b[39;00m\u001b[38;5;124m\"\u001b[39m\u001b[38;5;241m.\u001b[39mformat(\n\u001b[0;32m   1944\u001b[0m         label,\n\u001b[0;32m   1945\u001b[0m         \u001b[38;5;124m\"\u001b[39m\u001b[38;5;124m, \u001b[39m\u001b[38;5;124m\"\u001b[39m\u001b[38;5;241m.\u001b[39mjoin(\n\u001b[0;32m   1946\u001b[0m             \u001b[38;5;28mstr\u001b[39m(i\u001b[38;5;241m.\u001b[39mshape[\u001b[38;5;241m0\u001b[39m]) \u001b[38;5;28;01mfor\u001b[39;00m i \u001b[38;5;129;01min\u001b[39;00m tf\u001b[38;5;241m.\u001b[39mnest\u001b[38;5;241m.\u001b[39mflatten(single_data)\n\u001b[0;32m   1947\u001b[0m         ),\n\u001b[0;32m   1948\u001b[0m     )\n\u001b[0;32m   1949\u001b[0m msg \u001b[38;5;241m+\u001b[39m\u001b[38;5;241m=\u001b[39m \u001b[38;5;124m\"\u001b[39m\u001b[38;5;124mMake sure all arrays contain the same number of samples.\u001b[39m\u001b[38;5;124m\"\u001b[39m\n\u001b[1;32m-> 1950\u001b[0m \u001b[38;5;28;01mraise\u001b[39;00m \u001b[38;5;167;01mValueError\u001b[39;00m(msg)\n",
      "\u001b[1;31mValueError\u001b[0m: Data cardinality is ambiguous:\n  x sizes: 697\n  y sizes: 700\nMake sure all arrays contain the same number of samples."
     ]
    }
   ],
   "source": [
    "import os  \n",
    "import numpy as np \n",
    "import cv2 \n",
    "from tensorflow.keras.utils import to_categorical\n",
    "\n",
    "from keras.layers import Input, Dense \n",
    "from keras.models import Model\n",
    " \n",
    "is_init = False\n",
    "size = -1\n",
    "\n",
    "label = []\n",
    "dictionary = {}\n",
    "c = 0\n",
    "\n",
    "for i in os.listdir():\n",
    "\tif i.split(\".\")[-1] == \"npy\" and not(i.split(\".\")[0] == \"labels\"):  \n",
    "\t\tif not(is_init):\n",
    "\t\t\tis_init = True \n",
    "\t\t\tX = np.load(i)\n",
    "\t\t\tsize = X.shape[0]\n",
    "\t\t\ty = np.array([i.split('.')[0]]*size).reshape(-1,1)\n",
    "\t\telse:\n",
    "\t\t\tX = np.concatenate((X, np.load(i)))\n",
    "\t\t\ty = np.concatenate((y, np.array([i.split('.')[0]]*size).reshape(-1,1)))\n",
    "\n",
    "\t\tlabel.append(i.split('.')[0])\n",
    "\t\tdictionary[i.split('.')[0]] = c  \n",
    "\t\tc = c+1\n",
    "\n",
    "\n",
    "for i in range(y.shape[0]):\n",
    "\ty[i, 0] = dictionary[y[i, 0]]\n",
    "y = np.array(y, dtype=\"int32\")\n",
    "\n",
    "###  hello = 0 nope = 1 ---> [1,0] ... [0,1]\n",
    "\n",
    "y = to_categorical(y)\n",
    "\n",
    "X_new = X.copy()\n",
    "y_new = y.copy()\n",
    "counter = 0 \n",
    "\n",
    "cnt = np.arange(X.shape[0])\n",
    "np.random.shuffle(cnt)\n",
    "\n",
    "for i in cnt: \n",
    "\tX_new[counter] = X[i]\n",
    "\ty_new[counter] = y[i]\n",
    "\tcounter = counter + 1\n",
    "\n",
    "\n",
    "ip = Input(shape=(X.shape[1]))\n",
    "\n",
    "m = Dense(512, activation=\"relu\")(ip)\n",
    "m = Dense(256, activation=\"relu\")(m)\n",
    "\n",
    "op = Dense(y.shape[1], activation=\"softmax\")(m) \n",
    "\n",
    "model = Model(inputs=ip, outputs=op)\n",
    "\n",
    "model.compile(optimizer='rmsprop', loss=\"categorical_crossentropy\", metrics=['acc'])\n",
    "\n",
    "model.fit(X, y, epochs=50)\n",
    "\n",
    "\n",
    "model.save(\"model.h5\")\n",
    "np.save(\"labels.npy\", np.array(label))\n"
   ]
  },
  {
   "cell_type": "code",
   "execution_count": null,
   "id": "3b5ac0fc",
   "metadata": {},
   "outputs": [],
   "source": []
  }
 ],
 "metadata": {
  "kernelspec": {
   "display_name": "Python 3 (ipykernel)",
   "language": "python",
   "name": "python3"
  },
  "language_info": {
   "codemirror_mode": {
    "name": "ipython",
    "version": 3
   },
   "file_extension": ".py",
   "mimetype": "text/x-python",
   "name": "python",
   "nbconvert_exporter": "python",
   "pygments_lexer": "ipython3",
   "version": "3.11.4"
  }
 },
 "nbformat": 4,
 "nbformat_minor": 5
}
